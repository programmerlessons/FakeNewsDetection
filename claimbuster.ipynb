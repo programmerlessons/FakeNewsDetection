{
 "cells": [
  {
   "cell_type": "markdown",
   "id": "31c7b225",
   "metadata": {},
   "source": [
    "import requests\n",
    "import json\n",
    "\n",
    "api_key = \"48ae6e66171240029c2682528d36690d\"\n",
    "input_claim = input(\"Enter text : \")\n",
    "\n",
    "# Define the endpoint (url) with the claim formatted as part of it, api-key (api-key is sent as an extra header)\n",
    "api_endpoint = f\"https://idir.uta.edu/claimbuster/api/v2/score/text/{input_claim}\"\n",
    "request_headers = {\"x-api-key\": api_key}\n",
    "\n",
    "# Send the GET request to the API and store the api response\n",
    "api_response = requests.get(url=api_endpoint, headers=request_headers)\n",
    "\n",
    "# Print out the JSON payload the API sent back\n",
    "print(api_response.json())"
   ]
  },
  {
   "cell_type": "code",
   "execution_count": 1,
   "id": "462fc635",
   "metadata": {},
   "outputs": [
    {
     "name": "stdout",
     "output_type": "stream",
     "text": [
      "Enter textOmicron Cases Must Be Treated Only in Designated Covid Facilities: Centre to States\n",
      "{'version': '2', 'claim': 'Omicron Cases Must Be Treated Only in Designated Covid Facilities: Centre to States', 'results': [{'text': 'Omicron Cases Must Be Treated Only in Designated Covid Facilities: Centre to States', 'index': 0, 'score': 0.6516846632}]}\n"
     ]
    }
   ],
   "source": [
    "import requests\n",
    "import json\n",
    "\n",
    "api_key = \"48ae6e66171240029c2682528d36690d\"\n",
    "input_claim = input(\"Enter text\")\n",
    "\n",
    "# Define the endpoint (url), payload (sentence to be scored), api-key (api-key is sent as an extra header)\n",
    "api_endpoint = \"https://idir.uta.edu/claimbuster/api/v2/score/text/\"\n",
    "request_headers = {\"x-api-key\": api_key}\n",
    "payload = {\"input_text\": input_claim}\n",
    "\n",
    "# Send the POST request to the API and store the api response\n",
    "api_response = requests.post(url=api_endpoint, json=payload, headers=request_headers)\n",
    "\n",
    "# Print out the JSON payload the API sent back\n",
    "print(api_response.json())\n",
    "#result = api_response.json()\n",
    "#y = result[\"results\"]\n",
    "#print(y[2])"
   ]
  },
  {
   "cell_type": "code",
   "execution_count": 2,
   "id": "f747bc5b",
   "metadata": {},
   "outputs": [
    {
     "name": "stdout",
     "output_type": "stream",
     "text": [
      "0.65\n"
     ]
    }
   ],
   "source": [
    "result = api_response.json()\n",
    "y = result ['results']\n",
    "x=y[0]\n",
    "\n",
    "final=round(x['score'],2)\n",
    "print(final)"
   ]
  },
  {
   "cell_type": "code",
   "execution_count": 3,
   "id": "11614d58",
   "metadata": {},
   "outputs": [
    {
     "name": "stdout",
     "output_type": "stream",
     "text": [
      "The news is real\n"
     ]
    }
   ],
   "source": [
    "if (final > 0.30):\n",
    "    print(\"The news is real\")\n",
    "else:\n",
    "    print(\"The news is fake\")"
   ]
  },
  {
   "cell_type": "code",
   "execution_count": null,
   "id": "484e3d38",
   "metadata": {},
   "outputs": [],
   "source": []
  }
 ],
 "metadata": {
  "kernelspec": {
   "display_name": "Python 3 (ipykernel)",
   "language": "python",
   "name": "python3"
  },
  "language_info": {
   "codemirror_mode": {
    "name": "ipython",
    "version": 3
   },
   "file_extension": ".py",
   "mimetype": "text/x-python",
   "name": "python",
   "nbconvert_exporter": "python",
   "pygments_lexer": "ipython3",
   "version": "3.9.8"
  }
 },
 "nbformat": 4,
 "nbformat_minor": 5
}
