{
 "cells": [
  {
   "cell_type": "code",
   "execution_count": 4,
   "id": "9f147014",
   "metadata": {
    "scrolled": true
   },
   "outputs": [],
   "source": [
    "from bs4 import BeautifulSoup\n",
    "import pandas as pd\n",
    "import requests\n",
    "import urllib.request\n",
    "import time"
   ]
  },
  {
   "cell_type": "code",
   "execution_count": 5,
   "id": "de047b2d",
   "metadata": {},
   "outputs": [],
   "source": [
    "authors = []\n",
    "dates = []\n",
    "statements = []\n",
    "source = []\n",
    "targets = []"
   ]
  },
  {
   "cell_type": "code",
   "execution_count": null,
   "id": "dc897458",
   "metadata": {},
   "outputs": [],
   "source": [
    "def scrape_website(page_number):\n",
    "    page_num = str(page_number)\n",
    "    URL = 'https://www.politifact.com/factchecks/list/?page='+page_num\n",
    "    webpage = requests.get(URL)\n",
    "    soup = BeautifulSoup(webpage.text,'html.parser')\n",
    "    \n",
    "    statement_footer = soup.find_all('footer',attrs={'class':'m-statement_footer'})\n",
    "    statement_quote = soup.find_all('div',attrs={'class':'m=statement_quote'})\n",
    "    statement_meta = soup.find_all('div',attrs={'class':'m-statement_meta'})\n",
    "    target = soup.find_all('div',attrs={'class':'m-statement_meter'})#score card\n",
    "    \n",
    "    #looping\n",
    "    for i in statement_footer :\n",
    "        link1 = i.text.strip()\n",
    "        name_and_date = link1.split()\n",
    "        first_name = name_and_date[1]\n",
    "        last_name = name_and_date[2]\n",
    "        full_name = first_name + ''+last_name\n",
    "        month = name_and_date[4]\n",
    "        day = name_and_date[5]\n",
    "        year = name_and_date[6]\n",
    "        date = month+''+day+''+year\n",
    "        dates.append(date)\n",
    "        authors.append(full_name)\n",
    "    for i in statement_quote:\n",
    "        link2 = i.find_all('a')\n",
    "        statement_text = link2[0].text.strip()\n",
    "        statements.append(statement_text)\n",
    "        \n",
    "    for i in statement_meta:\n",
    "        link3 = i.find_all('a')\n",
    "        source_text = link3[0].text.strip()\n",
    "        sources.append(source_text)\n",
    "        \n",
    "    #looping thru target\n",
    "    for i in target:\n",
    "        link4 = i.find('div',attrs={'class':'c-image'}).find('img').get('alt')\n",
    "        targets.append(link4)"
   ]
  },
  {
   "cell_type": "code",
   "execution_count": null,
   "id": "f6725f1a",
   "metadata": {},
   "outputs": [],
   "source": [
    "#loop thru n-1 webpages to scrape data\n",
    "n = 2\n",
    "for i in range(1,n):\n",
    "    scrape_website(i)"
   ]
  }
 ],
 "metadata": {
  "kernelspec": {
   "display_name": "Python 3 (ipykernel)",
   "language": "python",
   "name": "python3"
  },
  "language_info": {
   "codemirror_mode": {
    "name": "ipython",
    "version": 3
   },
   "file_extension": ".py",
   "mimetype": "text/x-python",
   "name": "python",
   "nbconvert_exporter": "python",
   "pygments_lexer": "ipython3",
   "version": "3.9.8"
  }
 },
 "nbformat": 4,
 "nbformat_minor": 5
}
